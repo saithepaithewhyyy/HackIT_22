{
  "nbformat": 4,
  "nbformat_minor": 0,
  "metadata": {
    "colab": {
      "name": "digit_recognition.ipynb",
      "provenance": [],
      "collapsed_sections": [],
      "authorship_tag": "ABX9TyN6iCwhmkjswbC03yV6rJH8",
      "include_colab_link": true
    },
    "kernelspec": {
      "name": "python3",
      "display_name": "Python 3"
    },
    "language_info": {
      "name": "python"
    }
  },
  "cells": [
    {
      "cell_type": "markdown",
      "metadata": {
        "id": "view-in-github",
        "colab_type": "text"
      },
      "source": [
        "<a href=\"https://colab.research.google.com/github/saithepaithewhyyy/HackIT_22/blob/main/digit_recognition.ipynb\" target=\"_parent\"><img src=\"https://colab.research.google.com/assets/colab-badge.svg\" alt=\"Open In Colab\"/></a>"
      ]
    },
    {
      "cell_type": "code",
      "source": [
        "from keras.datasets import mnist \n",
        "(X,Y), (X_test, Y_test) = mnist.load_data()"
      ],
      "metadata": {
        "id": "5yBSa8RBuWo1"
      },
      "execution_count": 110,
      "outputs": []
    },
    {
      "cell_type": "code",
      "source": [
        "rand=np.arange(60000)\n",
        "np.random.shuffle(rand)\n",
        "train_no=rand[:50000]\n",
        "\n",
        "val_no=np.setdiff1d(rand,train_no)\n",
        "\n",
        "X_train,X_val=X[train_no,:,:],X[val_no,:,:]\n",
        "Y_train,Y_val=Y[train_no],Y[val_no]"
      ],
      "metadata": {
        "id": "mLtLgTfju1qN"
      },
      "execution_count": 111,
      "outputs": []
    },
    {
      "cell_type": "code",
      "source": [
        "def sigmoid(x):\n",
        "    return 1/(np.exp(-x)+1)    \n",
        "\n",
        "def d_sigmoid(x):\n",
        "    return (np.exp(-x))/((np.exp(-x)+1)**2)"
      ],
      "metadata": {
        "id": "6ttEMVLQvXeo"
      },
      "execution_count": 112,
      "outputs": []
    },
    {
      "cell_type": "code",
      "source": [
        "def softmax(x):\n",
        "    exp_element=np.exp(x-x.max())\n",
        "    return exp_element/np.sum(exp_element,axis=0)\n",
        "def d_softmax(x):\n",
        "    exp_element=np.exp(x-x.max())\n",
        "    return exp_element/np.sum(exp_element,axis=0)*(1-exp_element/np.sum(exp_element,axis=0))"
      ],
      "metadata": {
        "id": "w2htfVKrvU3G"
      },
      "execution_count": 113,
      "outputs": []
    },
    {
      "cell_type": "code",
      "source": [
        "def init(x,y):\n",
        "    layer=np.random.uniform(-1.,1.,size=(x,y))/np.sqrt(x*y)\n",
        "    return layer.astype(np.float32)\n",
        "\n",
        "np.random.seed(42)\n",
        "l1=init(28*28,128)\n",
        "l2=init(128,10)"
      ],
      "metadata": {
        "id": "Fjs8JFz3vMp2"
      },
      "execution_count": 114,
      "outputs": []
    },
    {
      "cell_type": "code",
      "source": [
        "def forward_backward_pass(x,y):\n",
        "    targets = np.zeros((len(y),10), np.float32)\n",
        "    targets[range(targets.shape[0]),y] = 1\n",
        " \n",
        "    \n",
        "    x_l1=x.dot(l1)\n",
        "    x_sigmoid=sigmoid(x_l1)\n",
        "    x_l2=x_sigmoid.dot(l2)\n",
        "    out=softmax(x_l2)\n",
        "   \n",
        " \n",
        "    error=2*(out-targets)/out.shape[0]*d_softmax(x_l2)\n",
        "    update_l2=x_sigmoid.T@error\n",
        "    \n",
        "    \n",
        "    error=((l2).dot(error.T)).T*d_sigmoid(x_l1)\n",
        "    update_l1=x.T@error\n",
        "\n",
        "    return out,update_l1,update_l2 "
      ],
      "metadata": {
        "id": "vLlxppM5vgsq"
      },
      "execution_count": 115,
      "outputs": []
    },
    {
      "cell_type": "code",
      "source": [
        "epochs=10000\n",
        "lr=0.001\n",
        "batch=128\n",
        "\n",
        "losses,accuracies,val_accuracies=[],[],[]\n",
        "\n",
        "for i in range(epochs):\n",
        "    sample=np.random.randint(0,X_train.shape[0],size=(batch))\n",
        "    x=X_train[sample].reshape((-1,28*28))\n",
        "    y=Y_train[sample]\n",
        " \n",
        "\n",
        "    out,update_l1,update_l2=forward_backward_pass(x,y)\n",
        "  \n",
        "    category=np.argmax(out,axis=1)\n",
        "    accuracy=(category==y).mean()\n",
        "    accuracies.append(accuracy)\n",
        "    \n",
        "    loss=((category-y)**2).mean()\n",
        "    losses.append(loss.item())\n",
        "    \n",
        "    l1=l1-lr*update_l1\n",
        "    l2=l2-lr*update_l2\n",
        "    \n",
        "    if(i%100==0):    \n",
        "        X_val=X_val.reshape((-1,28*28))\n",
        "        val_out=np.argmax(softmax(sigmoid(X_val.dot(l1)).dot(l2)),axis=1)\n",
        "        val_acc=(val_out==Y_val).mean()\n",
        "        val_accuracies.append(val_acc.item())\n",
        "    if(i%500==0): print(f'For {i}th epoch: train accuracy: {accuracy:.3f} | validation accuracy:{val_acc:.3f}')\n"
      ],
      "metadata": {
        "colab": {
          "base_uri": "https://localhost:8080/"
        },
        "id": "Co-Llmo3wEdt",
        "outputId": "1d72d352-919e-4940-cc43-32113ed4584e"
      },
      "execution_count": null,
      "outputs": [
        {
          "output_type": "stream",
          "name": "stdout",
          "text": [
            "For 0th epoch: train accuracy: 0.062 | validation accuracy:0.063\n",
            "For 500th epoch: train accuracy: 0.680 | validation accuracy:0.662\n",
            "For 1000th epoch: train accuracy: 0.742 | validation accuracy:0.749\n",
            "For 1500th epoch: train accuracy: 0.766 | validation accuracy:0.774\n",
            "For 2000th epoch: train accuracy: 0.812 | validation accuracy:0.785\n",
            "For 2500th epoch: train accuracy: 0.789 | validation accuracy:0.794\n",
            "For 3000th epoch: train accuracy: 0.805 | validation accuracy:0.801\n",
            "For 3500th epoch: train accuracy: 0.789 | validation accuracy:0.807\n"
          ]
        }
      ]
    },
    {
      "cell_type": "code",
      "source": [
        "accuracy*100"
      ],
      "metadata": {
        "id": "IblVJ7ICzjI2"
      },
      "execution_count": null,
      "outputs": []
    },
    {
      "cell_type": "code",
      "source": [
        "val_acc*100"
      ],
      "metadata": {
        "id": "hnqVIgu-zpEo"
      },
      "execution_count": null,
      "outputs": []
    }
  ]
}